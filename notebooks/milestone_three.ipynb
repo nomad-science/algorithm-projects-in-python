{
 "cells": [
  {
   "cell_type": "code",
   "id": "4994490d-ac15-4155-a3ea-a5ae8388776e",
   "metadata": {
    "ExecuteTime": {
     "end_time": "2024-12-01T22:47:49.462836Z",
     "start_time": "2024-12-01T22:47:49.434907Z"
    }
   },
   "source": [
    "class BinaryNode:\n",
    "\n",
    "    def __init__(self, value: str, indent=2):\n",
    "        self.value = value\n",
    "        self.left_child = None\n",
    "        self.right_child = None\n",
    "        self.indent = indent\n",
    "\n",
    "    def add_left(self, left: str):\n",
    "        self.left_child = left\n",
    "\n",
    "    def add_right(self, right: str):\n",
    "        self.right_child = right\n",
    "        \n",
    "    def print_node(self, level=0, output_str=None):\n",
    "        print(\" \" * (level * self.indent), \n",
    "              output_str if output_str is not None else self.value + \":\") \n",
    "        \n",
    "    def print_child(self, level=0, node=None):\n",
    "        if node is not None:\n",
    "            node.__str__(level)\n",
    "        else:\n",
    "            self.print_node(level, \"None\")\n",
    "\n",
    "    def __str__(self, level=0):\n",
    "    \n",
    "        self.print_node(level)\n",
    "        \n",
    "        if self.left_child is None and self.right_child is None:\n",
    "            return\n",
    "        \n",
    "        self.print_child(level + 1, self.left_child)\n",
    "        \n",
    "        self.print_child(level + 1, self.right_child)\n",
    "            \n",
    "        return \"\"\n",
    "    \n",
    "    def find_node(self, value: str):\n",
    "        \n",
    "        if value == self.value:\n",
    "            return self\n",
    "        else:\n",
    "            if self.left_child is not None:\n",
    "                left_child_result = self.left_child.find_node(value)\n",
    "                \n",
    "                if left_child_result is not None:\n",
    "                    return left_child_result\n",
    "            \n",
    "            if self.right_child is not None:\n",
    "                right_child_result = self.right_child.find_node(value)\n",
    "                if right_child_result is not None:\n",
    "                    return right_child_result\n",
    "                \n",
    "            return None"
   ],
   "outputs": [],
   "execution_count": 273
  },
  {
   "cell_type": "code",
   "id": "417d3caa-7248-4ed9-8001-5dae8329c9b2",
   "metadata": {
    "ExecuteTime": {
     "end_time": "2024-12-01T22:47:50.414809Z",
     "start_time": "2024-12-01T22:47:50.409978Z"
    }
   },
   "source": [
    "test = BinaryNode(\"ROOT\")\n",
    "\n",
    "a_node = BinaryNode(\"A\")\n",
    "b_node = BinaryNode(\"B\")\n",
    "c_node = BinaryNode(\"C\")\n",
    "d_node = BinaryNode(\"D\")\n",
    "e_node = BinaryNode(\"E\")\n",
    "f_node = BinaryNode(\"F\")\n",
    "g_node = BinaryNode(\"G\")\n",
    "\n",
    "d_node.right_child = g_node\n",
    "\n",
    "a_node.add_left(c_node)\n",
    "a_node.add_right(d_node)\n",
    "b_node.add_left(e_node)\n",
    "\n",
    "test.add_left(a_node)\n",
    "test.add_right(b_node)\n"
   ],
   "outputs": [],
   "execution_count": 274
  },
  {
   "cell_type": "code",
   "id": "af92d1f6-9154-4bb1-a8c6-63a665406868",
   "metadata": {
    "ExecuteTime": {
     "end_time": "2024-12-01T22:47:51.351604Z",
     "start_time": "2024-12-01T22:47:51.346838Z"
    }
   },
   "source": "print(test)",
   "outputs": [
    {
     "name": "stdout",
     "output_type": "stream",
     "text": [
      " ROOT:\n",
      "   A:\n",
      "     C:\n",
      "     D:\n",
      "       None\n",
      "       G:\n",
      "   B:\n",
      "     E:\n",
      "     None\n",
      "\n"
     ]
    }
   ],
   "execution_count": 275
  },
  {
   "metadata": {
    "ExecuteTime": {
     "end_time": "2024-12-01T22:47:53.514281Z",
     "start_time": "2024-12-01T22:47:53.509298Z"
    }
   },
   "cell_type": "code",
   "source": [
    "def find_value(node_tree, value: str):\n",
    "    return \"Found \" + value if node_tree.find_node(value) is not None else \"Value \" + value + \" not found\"\n",
    "    "
   ],
   "id": "1aa668119e63c98a",
   "outputs": [],
   "execution_count": 276
  },
  {
   "metadata": {
    "ExecuteTime": {
     "end_time": "2024-12-01T22:47:54.638280Z",
     "start_time": "2024-12-01T22:47:54.629780Z"
    }
   },
   "cell_type": "code",
   "source": [
    "print(find_value(test, \"ROOT\"))\n",
    "print(find_value(test, \"E\"))\n",
    "print(find_value(test, \"Q\"))\n",
    "\n",
    "print(find_value(a_node, \"D\"))"
   ],
   "id": "fb54dfbcc80599cf",
   "outputs": [
    {
     "name": "stdout",
     "output_type": "stream",
     "text": [
      "Found ROOT\n",
      "Found E\n",
      "Value Q not found\n",
      "Found D\n"
     ]
    }
   ],
   "execution_count": 277
  },
  {
   "cell_type": "code",
   "id": "cd834390-a8c2-430d-9c62-16d97ddeb0b8",
   "metadata": {
    "ExecuteTime": {
     "end_time": "2024-12-01T22:48:00.207372Z",
     "start_time": "2024-12-01T22:48:00.200320Z"
    }
   },
   "source": [
    "class NaryNode:\n",
    "\n",
    "    def __init__(self, value:str, children=None, indent_level=2):\n",
    "        self.value = value\n",
    "        self.children = children if children is not None else []\n",
    "        self.indent_level = indent_level\n",
    "\n",
    "    def add_child(self, child):\n",
    "        self.children.append(child)\n",
    "\n",
    "    def __str__(self, indent=0): \n",
    "        \n",
    "        print(\" \" * (self.indent_level * indent) + self.value + \":\")\n",
    "        \n",
    "        if self.children is None:\n",
    "            return\n",
    "        \n",
    "        for child in self.children:\n",
    "            child.__str__(indent + 1)\n",
    "            \n",
    "        return \" \"\n",
    "    \n",
    "    def find_node(self, node_name: str):\n",
    "        \n",
    "        if self.value == node_name:\n",
    "            return self\n",
    "        \n",
    "        if self.children is not None:\n",
    "            for child in self.children:\n",
    "                result = child.find_node(node_name)\n",
    "                if result is not None:\n",
    "                    return result\n",
    "                \n",
    "        return None\n",
    "                    "
   ],
   "outputs": [],
   "execution_count": 278
  },
  {
   "cell_type": "code",
   "id": "3a333927-7297-48ee-ae40-5c48b2b21aac",
   "metadata": {
    "ExecuteTime": {
     "end_time": "2024-12-01T22:48:02.242546Z",
     "start_time": "2024-12-01T22:48:02.236963Z"
    }
   },
   "source": [
    "a_node = NaryNode(\"A\")\n",
    "b_node = NaryNode(\"B\")\n",
    "c_node = NaryNode(\"C\")\n",
    "d_node = NaryNode(\"D\")\n",
    "e_node = NaryNode(\"E\")\n",
    "f_node = NaryNode(\"F\")\n",
    "g_node = NaryNode(\"G\")\n",
    "h_node = NaryNode(\"H\")\n",
    "i_node = NaryNode(\"I\")\n",
    "\n",
    "d_node.add_child(g_node)\n",
    "\n",
    "f_node.add_child(h_node)\n",
    "f_node.add_child(i_node)\n",
    "\n",
    "c_node.add_child(f_node)\n",
    "\n",
    "a_node.add_child(d_node)\n",
    "a_node.add_child(e_node)\n",
    "\n",
    "root = NaryNode(\"Root\", [a_node, b_node, c_node])\n"
   ],
   "outputs": [],
   "execution_count": 279
  },
  {
   "cell_type": "code",
   "id": "fae1b6d5-3e91-4ee3-8ee3-01ddef315748",
   "metadata": {
    "ExecuteTime": {
     "end_time": "2024-12-01T22:48:03.033126Z",
     "start_time": "2024-12-01T22:48:03.027962Z"
    }
   },
   "source": "print(root)",
   "outputs": [
    {
     "name": "stdout",
     "output_type": "stream",
     "text": [
      "Root:\n",
      "  A:\n",
      "    D:\n",
      "      G:\n",
      "    E:\n",
      "  B:\n",
      "  C:\n",
      "    F:\n",
      "      H:\n",
      "      I:\n",
      " \n"
     ]
    }
   ],
   "execution_count": 280
  },
  {
   "metadata": {
    "ExecuteTime": {
     "end_time": "2024-12-01T22:48:06.954297Z",
     "start_time": "2024-12-01T22:48:06.946365Z"
    }
   },
   "cell_type": "code",
   "source": [
    "print(find_value(root, 'Root'))\n",
    "print(find_value(root, 'E'))\n",
    "print(find_value(root, 'F'))\n",
    "print(find_value(root, 'Q'))\n",
    "print(find_value(c_node, 'F'))"
   ],
   "id": "71facf1499934bfb",
   "outputs": [
    {
     "name": "stdout",
     "output_type": "stream",
     "text": [
      "Found Root\n",
      "Found E\n",
      "Found F\n",
      "Value Q not found\n",
      "Found F\n"
     ]
    }
   ],
   "execution_count": 281
  },
  {
   "metadata": {
    "ExecuteTime": {
     "end_time": "2024-12-01T22:03:55.773868Z",
     "start_time": "2024-12-01T22:03:55.771124Z"
    }
   },
   "cell_type": "code",
   "source": "",
   "id": "7040b205c54d54f2",
   "outputs": [],
   "execution_count": 39
  },
  {
   "metadata": {},
   "cell_type": "code",
   "outputs": [],
   "execution_count": null,
   "source": "",
   "id": "8948db90bc6f8cb0"
  }
 ],
 "metadata": {
  "kernelspec": {
   "display_name": "Python 3 (ipykernel)",
   "language": "python",
   "name": "python3"
  },
  "language_info": {
   "codemirror_mode": {
    "name": "ipython",
    "version": 3
   },
   "file_extension": ".py",
   "mimetype": "text/x-python",
   "name": "python",
   "nbconvert_exporter": "python",
   "pygments_lexer": "ipython3",
   "version": "3.11.9"
  }
 },
 "nbformat": 4,
 "nbformat_minor": 5
}
