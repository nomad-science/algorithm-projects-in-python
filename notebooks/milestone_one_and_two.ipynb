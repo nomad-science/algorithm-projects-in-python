{
 "cells": [
  {
   "cell_type": "code",
   "id": "4994490d-ac15-4155-a3ea-a5ae8388776e",
   "metadata": {
    "ExecuteTime": {
     "end_time": "2024-11-03T19:08:18.953673Z",
     "start_time": "2024-11-03T19:08:18.897339Z"
    }
   },
   "source": [
    "class BinaryNode:\n",
    "\n",
    "    def __init__(self, value: str, indent=2):\n",
    "        self.value = value\n",
    "        self.left_child = None\n",
    "        self.right_child = None\n",
    "        self.indent = indent\n",
    "\n",
    "    def add_left(self, left: str):\n",
    "        self.left_child = left\n",
    "\n",
    "    def add_right(self, right: str):\n",
    "        self.right_child = right\n",
    "        \n",
    "    def print_node(self, level=0, output_str=None):\n",
    "        print(\" \" * (level * self.indent), \n",
    "              output_str if output_str is not None else self.value + \":\") \n",
    "        \n",
    "    def print_child(self, level=0, node=None):\n",
    "        if node is not None:\n",
    "            node.__str__(level)\n",
    "        else:\n",
    "            self.print_node(level, \"None\")\n",
    "\n",
    "    def __str__(self, level=0):\n",
    "    \n",
    "        self.print_node(level)\n",
    "        \n",
    "        if self.left_child is None and self.right_child is None:\n",
    "            return\n",
    "        \n",
    "        self.print_child(level + 1, self.left_child)\n",
    "        \n",
    "        self.print_child(level + 1, self.right_child)\n",
    "            \n",
    "        return \"\"\n",
    "        "
   ],
   "outputs": [],
   "execution_count": 13
  },
  {
   "cell_type": "code",
   "id": "417d3caa-7248-4ed9-8001-5dae8329c9b2",
   "metadata": {
    "ExecuteTime": {
     "end_time": "2024-11-03T19:08:19.005160Z",
     "start_time": "2024-11-03T19:08:18.988626Z"
    }
   },
   "source": [
    "test = BinaryNode(\"ROOT\")\n",
    "\n",
    "a_node = BinaryNode(\"A\")\n",
    "b_node = BinaryNode(\"B\")\n",
    "c_node = BinaryNode(\"C\")\n",
    "d_node = BinaryNode(\"D\")\n",
    "e_node = BinaryNode(\"E\")\n",
    "f_node = BinaryNode(\"F\")\n",
    "g_node = BinaryNode(\"G\")\n",
    "\n",
    "d_node.right_child = g_node\n",
    "\n",
    "a_node.add_left(c_node)\n",
    "a_node.add_right(d_node)\n",
    "b_node.add_left(e_node)\n",
    "\n",
    "test.add_left(a_node)\n",
    "test.add_right(b_node)\n"
   ],
   "outputs": [],
   "execution_count": 14
  },
  {
   "cell_type": "code",
   "id": "af92d1f6-9154-4bb1-a8c6-63a665406868",
   "metadata": {
    "ExecuteTime": {
     "end_time": "2024-11-03T19:08:19.041409Z",
     "start_time": "2024-11-03T19:08:19.032813Z"
    }
   },
   "source": "print(test)",
   "outputs": [
    {
     "name": "stdout",
     "output_type": "stream",
     "text": [
      " ROOT:\n",
      "   A:\n",
      "     C:\n",
      "     D:\n",
      "       None\n",
      "       G:\n",
      "   B:\n",
      "     E:\n",
      "     None\n",
      "\n"
     ]
    }
   ],
   "execution_count": 15
  },
  {
   "cell_type": "code",
   "id": "cd834390-a8c2-430d-9c62-16d97ddeb0b8",
   "metadata": {
    "ExecuteTime": {
     "end_time": "2024-11-03T19:10:41.553638Z",
     "start_time": "2024-11-03T19:10:41.531393Z"
    }
   },
   "source": [
    "class NaryNode:\n",
    "\n",
    "    def __init__(self, value:str, children=None, indent_level=2):\n",
    "        self.value = value\n",
    "        self.children = children if children is not None else []\n",
    "        self.indent_level = indent_level\n",
    "\n",
    "    def add_child(self, child):\n",
    "        self.children.append(child)\n",
    "\n",
    "    def __str__(self, indent=0): \n",
    "        \n",
    "        print(\" \" * (self.indent_level * indent) + self.value + \":\")\n",
    "        \n",
    "        if self.children is None:\n",
    "            return\n",
    "        \n",
    "        for child in self.children:\n",
    "            child.__str__(indent + 1)\n",
    "            \n",
    "        return \" \"\n",
    "        "
   ],
   "outputs": [],
   "execution_count": 21
  },
  {
   "cell_type": "code",
   "id": "3a333927-7297-48ee-ae40-5c48b2b21aac",
   "metadata": {
    "ExecuteTime": {
     "end_time": "2024-11-03T19:10:42.198854Z",
     "start_time": "2024-11-03T19:10:42.189182Z"
    }
   },
   "source": [
    "a_node = NaryNode(\"A\")\n",
    "b_node = NaryNode(\"B\")\n",
    "c_node = NaryNode(\"C\")\n",
    "d_node = NaryNode(\"D\")\n",
    "e_node = NaryNode(\"E\")\n",
    "f_node = NaryNode(\"F\")\n",
    "g_node = NaryNode(\"G\")\n",
    "h_node = NaryNode(\"H\")\n",
    "i_node = NaryNode(\"I\")\n",
    "\n",
    "d_node.add_child(g_node)\n",
    "\n",
    "f_node.add_child(h_node)\n",
    "f_node.add_child(i_node)\n",
    "\n",
    "c_node.add_child(f_node)\n",
    "\n",
    "a_node.add_child(d_node)\n",
    "a_node.add_child(e_node)\n",
    "\n",
    "root = NaryNode(\"Root\", [a_node, b_node, c_node])\n"
   ],
   "outputs": [],
   "execution_count": 22
  },
  {
   "cell_type": "code",
   "id": "fae1b6d5-3e91-4ee3-8ee3-01ddef315748",
   "metadata": {
    "ExecuteTime": {
     "end_time": "2024-11-03T19:10:42.813435Z",
     "start_time": "2024-11-03T19:10:42.805880Z"
    }
   },
   "source": "print(root)",
   "outputs": [
    {
     "name": "stdout",
     "output_type": "stream",
     "text": [
      "Root:\n",
      "  A:\n",
      "    D:\n",
      "      G:\n",
      "    E:\n",
      "  B:\n",
      "  C:\n",
      "    F:\n",
      "      H:\n",
      "      I:\n",
      " \n"
     ]
    }
   ],
   "execution_count": 23
  },
  {
   "cell_type": "code",
   "execution_count": null,
   "id": "d93f70c5-37a8-4699-87a3-435c51ac699c",
   "metadata": {},
   "outputs": [],
   "source": []
  }
 ],
 "metadata": {
  "kernelspec": {
   "display_name": "Python 3 (ipykernel)",
   "language": "python",
   "name": "python3"
  },
  "language_info": {
   "codemirror_mode": {
    "name": "ipython",
    "version": 3
   },
   "file_extension": ".py",
   "mimetype": "text/x-python",
   "name": "python",
   "nbconvert_exporter": "python",
   "pygments_lexer": "ipython3",
   "version": "3.11.9"
  }
 },
 "nbformat": 4,
 "nbformat_minor": 5
}
