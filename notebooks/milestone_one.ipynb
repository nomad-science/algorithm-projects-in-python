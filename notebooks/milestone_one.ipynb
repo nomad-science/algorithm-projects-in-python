{
 "cells": [
  {
   "cell_type": "code",
   "id": "4994490d-ac15-4155-a3ea-a5ae8388776e",
   "metadata": {
    "ExecuteTime": {
     "end_time": "2024-09-22T20:56:03.390189Z",
     "start_time": "2024-09-22T20:56:03.387110Z"
    }
   },
   "source": [
    "class BinaryNode:\n",
    "\n",
    "    def __init__(self, value: str):\n",
    "        self.value = value\n",
    "        self.left_child = None\n",
    "        self.right_child = None\n",
    "\n",
    "    def add_left(self, left: str):\n",
    "        self.left_child = left\n",
    "\n",
    "    def add_right(self, right: str):\n",
    "        self.right_child = right\n",
    "\n",
    "    def __str__(self):\n",
    "        return \"{0}: {1} {2}\".format(self.value, self.left_child, self.right_child)\n",
    "\n"
   ],
   "outputs": [],
   "execution_count": 1
  },
  {
   "cell_type": "code",
   "id": "417d3caa-7248-4ed9-8001-5dae8329c9b2",
   "metadata": {
    "ExecuteTime": {
     "end_time": "2024-09-22T20:56:04.152066Z",
     "start_time": "2024-09-22T20:56:04.148996Z"
    }
   },
   "source": [
    "test = BinaryNode(\"root\")"
   ],
   "outputs": [],
   "execution_count": 2
  },
  {
   "cell_type": "code",
   "id": "af92d1f6-9154-4bb1-a8c6-63a665406868",
   "metadata": {
    "ExecuteTime": {
     "end_time": "2024-09-22T20:56:04.839846Z",
     "start_time": "2024-09-22T20:56:04.833979Z"
    }
   },
   "source": [
    "test.__str__()"
   ],
   "outputs": [
    {
     "data": {
      "text/plain": [
       "'root: None None'"
      ]
     },
     "execution_count": 3,
     "metadata": {},
     "output_type": "execute_result"
    }
   ],
   "execution_count": 3
  },
  {
   "cell_type": "code",
   "id": "cd834390-a8c2-430d-9c62-16d97ddeb0b8",
   "metadata": {
    "ExecuteTime": {
     "end_time": "2024-09-22T20:56:47.117917Z",
     "start_time": "2024-09-22T20:56:47.112728Z"
    }
   },
   "source": [
    "class NaryNode:\n",
    "\n",
    "    def __init__(self, value:str, children=None):\n",
    "        self.value = value\n",
    "        self.children = children if children is not None else []\n",
    "\n",
    "    def add_child(self, child):\n",
    "        self.children.append(child)\n",
    "\n",
    "    def __str__(self): \n",
    "\n",
    "        output = \"{self.value}:\"\n",
    "     \n",
    "        for idx, child in enumerate(self.children):\n",
    "            output += \" {self.children[\" + str(idx) + \"].value} \"\n",
    "\n",
    "        print(output.format(self=self))"
   ],
   "outputs": [],
   "execution_count": 7
  },
  {
   "cell_type": "code",
   "id": "3a333927-7297-48ee-ae40-5c48b2b21aac",
   "metadata": {
    "ExecuteTime": {
     "end_time": "2024-09-22T20:56:48.793406Z",
     "start_time": "2024-09-22T20:56:48.789412Z"
    }
   },
   "source": [
    "a_node = NaryNode(\"A\")\n",
    "b_node = NaryNode(\"B\")\n",
    "c_node = NaryNode(\"C\")\n",
    "d_node = NaryNode(\"D\")\n",
    "e_node = NaryNode(\"E\")\n",
    "f_node = NaryNode(\"F\")\n",
    "g_node = NaryNode(\"G\")\n",
    "h_node = NaryNode(\"H\")\n",
    "i_node = NaryNode(\"I\")\n",
    "\n",
    "d_node.add_child(g_node)\n",
    "\n",
    "f_node.add_child(h_node)\n",
    "f_node.add_child(i_node)\n",
    "\n",
    "c_node.add_child(f_node)\n",
    "\n",
    "a_node.add_child(d_node)\n",
    "a_node.add_child(e_node)\n",
    "\n",
    "root = NaryNode(\"root\", [a_node, b_node, c_node])\n",
    "\n",
    "def print_node_tree(node):\n",
    "    node.__str__()\n",
    "\n",
    "    if node.children is not None:\n",
    "        for child in node.children:\n",
    "            print_node_tree(child)\n"
   ],
   "outputs": [],
   "execution_count": 8
  },
  {
   "cell_type": "code",
   "id": "fae1b6d5-3e91-4ee3-8ee3-01ddef315748",
   "metadata": {
    "ExecuteTime": {
     "end_time": "2024-09-22T20:56:50.195627Z",
     "start_time": "2024-09-22T20:56:50.192649Z"
    }
   },
   "source": [
    "print_node_tree(root)"
   ],
   "outputs": [
    {
     "name": "stdout",
     "output_type": "stream",
     "text": [
      "root: A  B  C \n",
      "A: D  E \n",
      "D: G \n",
      "G:\n",
      "E:\n",
      "B:\n",
      "C: F \n",
      "F: H  I \n",
      "H:\n",
      "I:\n"
     ]
    }
   ],
   "execution_count": 9
  },
  {
   "cell_type": "code",
   "execution_count": null,
   "id": "d93f70c5-37a8-4699-87a3-435c51ac699c",
   "metadata": {},
   "outputs": [],
   "source": []
  }
 ],
 "metadata": {
  "kernelspec": {
   "display_name": "Python 3 (ipykernel)",
   "language": "python",
   "name": "python3"
  },
  "language_info": {
   "codemirror_mode": {
    "name": "ipython",
    "version": 3
   },
   "file_extension": ".py",
   "mimetype": "text/x-python",
   "name": "python",
   "nbconvert_exporter": "python",
   "pygments_lexer": "ipython3",
   "version": "3.11.9"
  }
 },
 "nbformat": 4,
 "nbformat_minor": 5
}
